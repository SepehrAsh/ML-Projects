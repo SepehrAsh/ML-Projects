{
 "cells": [
  {
   "cell_type": "markdown",
   "metadata": {},
   "source": [
    "Hw5 Practical\n",
    "//\n",
    "Sepehr Ashrafzadeh           96101216\n"
   ]
  },
  {
   "cell_type": "markdown",
   "metadata": {},
   "source": [
    "<div dir='rtl'>\n",
    "    ابتدا کتابخانه های مورد نیاز را import میکنیم\n",
    "</div>"
   ]
  },
  {
   "cell_type": "code",
   "execution_count": 1,
   "metadata": {},
   "outputs": [],
   "source": [
    "import numpy as np\n",
    "import pandas as pd\n",
    "import matplotlib.pyplot as plt\n",
    "import seaborn as sn   # just for using heatmap for confusion matrix visualization\n",
    "from sklearn.datasets import load_iris"
   ]
  },
  {
   "cell_type": "markdown",
   "metadata": {},
   "source": [
    "<div dir='rtl'>\n",
    "   با استفاده از sklearn دیتاست مورد نظر را لود کرده و به دیتافریم تبدیل میکنیم\n",
    "</div>"
   ]
  },
  {
   "cell_type": "code",
   "execution_count": 2,
   "metadata": {},
   "outputs": [
    {
     "data": {
      "text/html": [
       "<div>\n",
       "<style scoped>\n",
       "    .dataframe tbody tr th:only-of-type {\n",
       "        vertical-align: middle;\n",
       "    }\n",
       "\n",
       "    .dataframe tbody tr th {\n",
       "        vertical-align: top;\n",
       "    }\n",
       "\n",
       "    .dataframe thead th {\n",
       "        text-align: right;\n",
       "    }\n",
       "</style>\n",
       "<table border=\"1\" class=\"dataframe\">\n",
       "  <thead>\n",
       "    <tr style=\"text-align: right;\">\n",
       "      <th></th>\n",
       "      <th>sepal length (cm)</th>\n",
       "      <th>sepal width (cm)</th>\n",
       "      <th>petal length (cm)</th>\n",
       "      <th>petal width (cm)</th>\n",
       "      <th>target</th>\n",
       "    </tr>\n",
       "  </thead>\n",
       "  <tbody>\n",
       "    <tr>\n",
       "      <th>0</th>\n",
       "      <td>5.1</td>\n",
       "      <td>3.5</td>\n",
       "      <td>1.4</td>\n",
       "      <td>0.2</td>\n",
       "      <td>0.0</td>\n",
       "    </tr>\n",
       "    <tr>\n",
       "      <th>1</th>\n",
       "      <td>4.9</td>\n",
       "      <td>3.0</td>\n",
       "      <td>1.4</td>\n",
       "      <td>0.2</td>\n",
       "      <td>0.0</td>\n",
       "    </tr>\n",
       "    <tr>\n",
       "      <th>2</th>\n",
       "      <td>4.7</td>\n",
       "      <td>3.2</td>\n",
       "      <td>1.3</td>\n",
       "      <td>0.2</td>\n",
       "      <td>0.0</td>\n",
       "    </tr>\n",
       "    <tr>\n",
       "      <th>3</th>\n",
       "      <td>4.6</td>\n",
       "      <td>3.1</td>\n",
       "      <td>1.5</td>\n",
       "      <td>0.2</td>\n",
       "      <td>0.0</td>\n",
       "    </tr>\n",
       "    <tr>\n",
       "      <th>4</th>\n",
       "      <td>5.0</td>\n",
       "      <td>3.6</td>\n",
       "      <td>1.4</td>\n",
       "      <td>0.2</td>\n",
       "      <td>0.0</td>\n",
       "    </tr>\n",
       "  </tbody>\n",
       "</table>\n",
       "</div>"
      ],
      "text/plain": [
       "   sepal length (cm)  sepal width (cm)  petal length (cm)  petal width (cm)  \\\n",
       "0                5.1               3.5                1.4               0.2   \n",
       "1                4.9               3.0                1.4               0.2   \n",
       "2                4.7               3.2                1.3               0.2   \n",
       "3                4.6               3.1                1.5               0.2   \n",
       "4                5.0               3.6                1.4               0.2   \n",
       "\n",
       "   target  \n",
       "0     0.0  \n",
       "1     0.0  \n",
       "2     0.0  \n",
       "3     0.0  \n",
       "4     0.0  "
      ]
     },
     "execution_count": 2,
     "metadata": {},
     "output_type": "execute_result"
    }
   ],
   "source": [
    "iris = load_iris()\n",
    "df= pd.DataFrame(data= np.c_[iris['data'], iris['target']], columns= iris['feature_names'] + ['target'])\n",
    "df = df.astype(float)\n",
    "df.head()"
   ]
  },
  {
   "cell_type": "markdown",
   "metadata": {},
   "source": [
    "PERCEPTRON"
   ]
  },
  {
   "cell_type": "markdown",
   "metadata": {},
   "source": [
    "<div dir='rtl'>\n",
    "کلاس دوم را از دیتافریم حذف میکنیم\n",
    "</div>"
   ]
  },
  {
   "cell_type": "code",
   "execution_count": 3,
   "metadata": {},
   "outputs": [
    {
     "data": {
      "text/html": [
       "<div>\n",
       "<style scoped>\n",
       "    .dataframe tbody tr th:only-of-type {\n",
       "        vertical-align: middle;\n",
       "    }\n",
       "\n",
       "    .dataframe tbody tr th {\n",
       "        vertical-align: top;\n",
       "    }\n",
       "\n",
       "    .dataframe thead th {\n",
       "        text-align: right;\n",
       "    }\n",
       "</style>\n",
       "<table border=\"1\" class=\"dataframe\">\n",
       "  <thead>\n",
       "    <tr style=\"text-align: right;\">\n",
       "      <th></th>\n",
       "      <th>sepal length (cm)</th>\n",
       "      <th>sepal width (cm)</th>\n",
       "      <th>petal length (cm)</th>\n",
       "      <th>petal width (cm)</th>\n",
       "      <th>target</th>\n",
       "    </tr>\n",
       "  </thead>\n",
       "  <tbody>\n",
       "    <tr>\n",
       "      <th>0</th>\n",
       "      <td>5.1</td>\n",
       "      <td>3.5</td>\n",
       "      <td>1.4</td>\n",
       "      <td>0.2</td>\n",
       "      <td>0.0</td>\n",
       "    </tr>\n",
       "    <tr>\n",
       "      <th>1</th>\n",
       "      <td>4.9</td>\n",
       "      <td>3.0</td>\n",
       "      <td>1.4</td>\n",
       "      <td>0.2</td>\n",
       "      <td>0.0</td>\n",
       "    </tr>\n",
       "    <tr>\n",
       "      <th>2</th>\n",
       "      <td>4.7</td>\n",
       "      <td>3.2</td>\n",
       "      <td>1.3</td>\n",
       "      <td>0.2</td>\n",
       "      <td>0.0</td>\n",
       "    </tr>\n",
       "    <tr>\n",
       "      <th>3</th>\n",
       "      <td>4.6</td>\n",
       "      <td>3.1</td>\n",
       "      <td>1.5</td>\n",
       "      <td>0.2</td>\n",
       "      <td>0.0</td>\n",
       "    </tr>\n",
       "    <tr>\n",
       "      <th>4</th>\n",
       "      <td>5.0</td>\n",
       "      <td>3.6</td>\n",
       "      <td>1.4</td>\n",
       "      <td>0.2</td>\n",
       "      <td>0.0</td>\n",
       "    </tr>\n",
       "    <tr>\n",
       "      <th>...</th>\n",
       "      <td>...</td>\n",
       "      <td>...</td>\n",
       "      <td>...</td>\n",
       "      <td>...</td>\n",
       "      <td>...</td>\n",
       "    </tr>\n",
       "    <tr>\n",
       "      <th>95</th>\n",
       "      <td>5.7</td>\n",
       "      <td>3.0</td>\n",
       "      <td>4.2</td>\n",
       "      <td>1.2</td>\n",
       "      <td>1.0</td>\n",
       "    </tr>\n",
       "    <tr>\n",
       "      <th>96</th>\n",
       "      <td>5.7</td>\n",
       "      <td>2.9</td>\n",
       "      <td>4.2</td>\n",
       "      <td>1.3</td>\n",
       "      <td>1.0</td>\n",
       "    </tr>\n",
       "    <tr>\n",
       "      <th>97</th>\n",
       "      <td>6.2</td>\n",
       "      <td>2.9</td>\n",
       "      <td>4.3</td>\n",
       "      <td>1.3</td>\n",
       "      <td>1.0</td>\n",
       "    </tr>\n",
       "    <tr>\n",
       "      <th>98</th>\n",
       "      <td>5.1</td>\n",
       "      <td>2.5</td>\n",
       "      <td>3.0</td>\n",
       "      <td>1.1</td>\n",
       "      <td>1.0</td>\n",
       "    </tr>\n",
       "    <tr>\n",
       "      <th>99</th>\n",
       "      <td>5.7</td>\n",
       "      <td>2.8</td>\n",
       "      <td>4.1</td>\n",
       "      <td>1.3</td>\n",
       "      <td>1.0</td>\n",
       "    </tr>\n",
       "  </tbody>\n",
       "</table>\n",
       "<p>100 rows × 5 columns</p>\n",
       "</div>"
      ],
      "text/plain": [
       "    sepal length (cm)  sepal width (cm)  petal length (cm)  petal width (cm)  \\\n",
       "0                 5.1               3.5                1.4               0.2   \n",
       "1                 4.9               3.0                1.4               0.2   \n",
       "2                 4.7               3.2                1.3               0.2   \n",
       "3                 4.6               3.1                1.5               0.2   \n",
       "4                 5.0               3.6                1.4               0.2   \n",
       "..                ...               ...                ...               ...   \n",
       "95                5.7               3.0                4.2               1.2   \n",
       "96                5.7               2.9                4.2               1.3   \n",
       "97                6.2               2.9                4.3               1.3   \n",
       "98                5.1               2.5                3.0               1.1   \n",
       "99                5.7               2.8                4.1               1.3   \n",
       "\n",
       "    target  \n",
       "0      0.0  \n",
       "1      0.0  \n",
       "2      0.0  \n",
       "3      0.0  \n",
       "4      0.0  \n",
       "..     ...  \n",
       "95     1.0  \n",
       "96     1.0  \n",
       "97     1.0  \n",
       "98     1.0  \n",
       "99     1.0  \n",
       "\n",
       "[100 rows x 5 columns]"
      ]
     },
     "execution_count": 3,
     "metadata": {},
     "output_type": "execute_result"
    }
   ],
   "source": [
    "df_percep = df[df[\"target\"] != 2]\n",
    "df_percep"
   ]
  },
  {
   "cell_type": "markdown",
   "metadata": {},
   "source": [
    "<div dir='rtl'>\n",
    "   \n",
    "بعد از shuffle کردن داده ها ان ها را به قسمت تست و ترین تقسیم میکنیم\n",
    "</div>"
   ]
  },
  {
   "cell_type": "code",
   "execution_count": 4,
   "metadata": {},
   "outputs": [
    {
     "name": "stdout",
     "output_type": "stream",
     "text": [
      "(80, 4)\n",
      "(80, 1)\n",
      "(20, 4)\n",
      "(20, 1)\n"
     ]
    }
   ],
   "source": [
    "df_percep = df_percep.sample(frac = 1)\n",
    "x_percep = df_percep.drop(\"target\" , axis = 1)\n",
    "y_percep = df_percep[[\"target\"]]\n",
    "\n",
    "eighty_percent = int(df_percep.shape[0] * 0.8)\n",
    "twenty_percent =int(df_percep.shape[0] - eighty_percent)\n",
    "\n",
    "x_train_prc = x_percep[:eighty_percent]\n",
    "y_train_prc = y_percep[:eighty_percent]\n",
    "\n",
    "x_test_prc  = x_percep[eighty_percent:]\n",
    "y_test_prc = y_percep[eighty_percent:]\n",
    "\n",
    "print(x_train_prc.shape)\n",
    "print(y_train_prc.shape)\n",
    "print(x_test_prc.shape)\n",
    "print(y_test_prc.shape)"
   ]
  },
  {
   "cell_type": "markdown",
   "metadata": {},
   "source": [
    "<div dir='rtl'>\n",
    "  تابع زیر را تعریف میکنیم تا اموزش بر روی داده های آموزشی را انجام دهد و تعداد داده هایی که درست طبقه بندی نشده اند را برگرداند\n",
    "</div>"
   ]
  },
  {
   "cell_type": "code",
   "execution_count": 5,
   "metadata": {},
   "outputs": [],
   "source": [
    "def perceptron(features , labels , epochs):\n",
    "    \n",
    "    w = np.zeros(shape=(1, features.shape[1]+1))\n",
    "    misclassified_list = [] \n",
    "  \n",
    "    for epoch in range(epochs):\n",
    "        misclassified = 0\n",
    "        for x, label in zip(features, labels):\n",
    "            \n",
    "            x = np.insert(x,0,1)\n",
    "            y = np.dot(w, x.transpose())\n",
    "            \n",
    "            if y > 0 :\n",
    "                target = 1\n",
    "            else :\n",
    "                target = 0\n",
    "                \n",
    "            delta = (label - target)\n",
    "            \n",
    "            if(delta):\n",
    "                misclassified += 1\n",
    "                w += (delta * x)\n",
    "        \n",
    "        misclassified_list.append(misclassified)\n",
    "    return (w, misclassified_list)\n",
    "             \n",
    "epochs = 10\n",
    "w, misclassified_list = perceptron(x_train_prc.to_numpy() , y_train_prc.to_numpy(), epochs)"
   ]
  },
  {
   "cell_type": "markdown",
   "metadata": {},
   "source": [
    "<div dir='rtl'>\n",
    "تعداد موارد misclassified در هر دوره را نمایش میدهیم\n",
    "</div>"
   ]
  },
  {
   "cell_type": "code",
   "execution_count": 6,
   "metadata": {},
   "outputs": [
    {
     "data": {
      "image/png": "[encoded data removed]",
      "text/plain": [
       "<Figure size 432x288 with 1 Axes>"
      ]
     },
     "metadata": {
      "needs_background": "light"
     },
     "output_type": "display_data"
    }
   ],
   "source": [
    "epochs = np.arange(1, epochs +1)\n",
    "plt.plot(epochs, misclassified_list)\n",
    "plt.xlabel('Epochs')\n",
    "plt.ylabel('Misclassified')\n",
    "plt.show()"
   ]
  },
  {
   "cell_type": "code",
   "execution_count": 7,
   "metadata": {},
   "outputs": [
    {
     "name": "stdout",
     "output_type": "stream",
     "text": [
      "Test Accuracy :  100.0 %\n",
      "Classified Correctly :  20\n",
      "Misclassified :  0\n"
     ]
    },
    {
     "data": {
      "image/png": "[encoded data removed]",
      "text/plain": [
       "<Figure size 432x288 with 2 Axes>"
      ]
     },
     "metadata": {
      "needs_background": "light"
     },
     "output_type": "display_data"
    }
   ],
   "source": [
    "def predict(features , labels , w):\n",
    "    misclassified = 0\n",
    "    predictions = []\n",
    "    for x, label in zip(features, labels):\n",
    "        x = np.insert(x,0,1)\n",
    "        y = np.dot(w, x.transpose())            \n",
    "        if y > 0 :\n",
    "            target = 1\n",
    "        else :\n",
    "            target = 0\n",
    "        \n",
    "        predictions.append(target)\n",
    "        \n",
    "        if label - target:\n",
    "            misclassified += 1\n",
    "                \n",
    "    return misclassified , predictions\n",
    "\n",
    "misclassified , pr = predict(x_test_prc.to_numpy() , y_test_prc.to_numpy() , w)\n",
    "misclassified\n",
    "\n",
    "print(\"Test Accuracy : \" , (np.array(pr) == np.array(y_test_prc['target'].tolist())).mean() * 100 , \"%\")\n",
    "print(\"Classified Correctly : \" , len(y_test_prc) - misclassified)\n",
    "print(\"Misclassified : \" , misclassified)\n",
    "\n",
    "confusion_df = pd.DataFrame({'Actual' : y_test_prc['target'].tolist() , 'Predicted' : np.array(pr)} )\n",
    "confusion_matrix = pd.crosstab(confusion_df['Actual'], confusion_df['Predicted'], rownames=['Actual'], colnames=['Predicted'] , margins = True)\n",
    "sn.heatmap(confusion_matrix, annot=True)\n",
    "plt.show()\n",
    "# confusion_matrix          "
   ]
  },
  {
   "cell_type": "markdown",
   "metadata": {},
   "source": [
    "LOGISTIC PART A"
   ]
  },
  {
   "cell_type": "code",
   "execution_count": 8,
   "metadata": {},
   "outputs": [
    {
     "name": "stdout",
     "output_type": "stream",
     "text": [
      "(120, 4)\n",
      "(120,)\n",
      "(30, 4)\n",
      "(30,)\n"
     ]
    }
   ],
   "source": [
    "df_logistic = df.sample(frac = 1)\n",
    "data = np.array(df_logistic)\n",
    "\n",
    "eighty_percent = int(data.shape[0] * 0.8)\n",
    "\n",
    "x_train_lgs = data[:eighty_percent, :-1] \n",
    "y_train_lgs =data[:eighty_percent, -1]\n",
    "\n",
    "x_test_lgs = data[eighty_percent:, :-1]\n",
    "y_test_lgs = data[eighty_percent:, -1]\n",
    "\n",
    "print(x_train_lgs.shape)\n",
    "print(y_train_lgs.shape)\n",
    "print(x_test_lgs.shape)\n",
    "print(y_test_lgs.shape)\n"
   ]
  },
  {
   "cell_type": "markdown",
   "metadata": {},
   "source": [
    "<div dir='rtl'>\n",
    "   در قسمت زیر کلاس تعریف شده دسته بند مورد نظر سوال است که با توجه به فرمول های softmax , cross entropy و پیشبینی و گرادیان logliklihood \n",
    "    توابعی برای محاسبه ی این مقادیر پیاده سازی شده اند\n",
    "</div>"
   ]
  },
  {
   "cell_type": "code",
   "execution_count": 9,
   "metadata": {},
   "outputs": [],
   "source": [
    "def softmax(x):\n",
    "    return np.exp(x) / np.array([np.sum(np.exp(x), axis=1)]).T\n",
    "    \n",
    "class LogisticRegression(object):\n",
    "    def __init__(self, features, target, features_num, classes_num):\n",
    "        \n",
    "        self.x = features\n",
    "        self.y = target\n",
    "        self.w = np.zeros((features_num, classes_num))\n",
    "        self.b = np.zeros(classes_num)        \n",
    "        \n",
    "    def train(self, lr, landa):\n",
    "        \n",
    "        p_y_x = softmax(np.dot(self.x, self.w) + self.b)\n",
    "        d_y = self.y - p_y_x\n",
    "        \n",
    "        self.w += lr * np.dot(self.x.T, d_y) - lr * landa * np.linalg.norm(self.w, ord=2)\n",
    "        self.b += lr * np.mean(d_y, axis=0)\n",
    "\n",
    "    def negative_log_likelihood(self):\n",
    "        h = softmax(np.dot(self.x, self.w) + self.b)\n",
    "        return -np.mean(np.sum(self.y * np.log(h) + (1 - self.y) * np.log(1 - h) , axis = 1))\n",
    "\n",
    "    def predict(self, x):\n",
    "        return softmax(np.dot(x, self.w) + self.b)\n",
    "    \n",
    "def run_classifier(learning_rate, n_epochs , x_train , y_train , x_test , landa):\n",
    "    \n",
    "    x = np.array(x_train)\n",
    "    y = np.array(y_train)\n",
    "    \n",
    "    classifier = LogisticRegression(features=x, target=y, features_num=x.shape[1], classes_num=y.shape[1])\n",
    "    \n",
    "    cost = []\n",
    "    for epoch in range(n_epochs):\n",
    "        classifier.train(lr = learning_rate , landa = landa)\n",
    "        cost.append(classifier.negative_log_likelihood())\n",
    "        learning_rate *= 0.95  # learn rate -> smaller amount\n",
    "\n",
    "    prediction = classifier.predict(x_test).argmax(1)\n",
    "    return cost , prediction\n",
    "\n"
   ]
  },
  {
   "cell_type": "code",
   "execution_count": 10,
   "metadata": {},
   "outputs": [
    {
     "data": {
      "image/png": "[encoded data removed]",
      "text/plain": [
       "<Figure size 432x288 with 1 Axes>"
      ]
     },
     "metadata": {
      "needs_background": "light"
     },
     "output_type": "display_data"
    }
   ],
   "source": [
    "cost , pr = run_classifier(0.007 , 100 , x_train_lgs.tolist() , pd.get_dummies(y_train_lgs).to_numpy().tolist() , x_test_lgs.tolist() , 0)\n",
    "\n",
    "plt.plot(cost)\n",
    "plt.xlabel('Number Epochs') \n",
    "plt.ylabel('Loss Value')\n",
    "plt.show()"
   ]
  },
  {
   "cell_type": "code",
   "execution_count": 11,
   "metadata": {},
   "outputs": [
    {
     "name": "stdout",
     "output_type": "stream",
     "text": [
      "Test Accuracy :  96.66666666666667 %\n",
      "Classified Correctly :  29.0\n",
      "Misclassified :  1.0\n"
     ]
    },
    {
     "data": {
      "image/png": "[encoded data removed]",
      "text/plain": [
       "<Figure size 432x288 with 2 Axes>"
      ]
     },
     "metadata": {
      "needs_background": "light"
     },
     "output_type": "display_data"
    }
   ],
   "source": [
    "print(\"Test Accuracy : \" , (pr == y_test_lgs).mean() * 100 , \"%\")\n",
    "print(\"Classified Correctly : \" , (pr == y_test_lgs).mean() * len(y_test_lgs))\n",
    "print(\"Misclassified : \" , len(y_test_lgs) - (pr == y_test_lgs).mean() * len(y_test_lgs))\n",
    "\n",
    "confusion_df = pd.DataFrame({'Actual' : y_test_lgs , 'Predicted' : pr} )\n",
    "confusion_matrix = pd.crosstab(confusion_df['Actual'], confusion_df['Predicted'], rownames=['Actual'], colnames=['Predicted'] , margins = True)\n",
    "sn.heatmap(confusion_matrix, annot=True)\n",
    "plt.show()\n",
    "#confusion_matrix"
   ]
  },
  {
   "cell_type": "markdown",
   "metadata": {},
   "source": [
    "LOGISTIC PART B"
   ]
  },
  {
   "cell_type": "code",
   "execution_count": 12,
   "metadata": {},
   "outputs": [
    {
     "name": "stdout",
     "output_type": "stream",
     "text": [
      "Test Accuracy :  96.66666666666667 %\n",
      "Classified Correctly :  29.0\n",
      "Misclassified :  1.0\n"
     ]
    },
    {
     "data": {
      "text/plain": [
       "Text(0, 0.5, 'Loss Value')"
      ]
     },
     "execution_count": 12,
     "metadata": {},
     "output_type": "execute_result"
    },
    {
     "data": {
      "image/png": "[encoded data removed]",
      "text/plain": [
       "<Figure size 432x288 with 1 Axes>"
      ]
     },
     "metadata": {
      "needs_background": "light"
     },
     "output_type": "display_data"
    }
   ],
   "source": [
    "landa = 0.0001\n",
    "cost , pr = run_classifier(0.007 , 100 , x_train_lgs.tolist() , pd.get_dummies(y_train_lgs).to_numpy().tolist() , x_test_lgs.tolist() , 0.1)\n",
    "\n",
    "print(\"Test Accuracy : \" , (pr == y_test_lgs).mean() * 100 , \"%\")\n",
    "print(\"Classified Correctly : \" , (pr == y_test_lgs).mean() * len(y_test_lgs))\n",
    "print(\"Misclassified : \" , len(y_test_lgs) - (pr == y_test_lgs).mean() * len(y_test_lgs))\n",
    "\n",
    "plt.plot(cost)\n",
    "plt.xlabel('Number Epochs') \n",
    "plt.ylabel('Loss Value')"
   ]
  },
  {
   "cell_type": "markdown",
   "metadata": {},
   "source": [
    "LANDA = 0.1"
   ]
  },
  {
   "cell_type": "code",
   "execution_count": 13,
   "metadata": {},
   "outputs": [
    {
     "name": "stdout",
     "output_type": "stream",
     "text": [
      "Test Accuracy :  96.66666666666667 %\n",
      "Classified Correctly :  29.0\n",
      "Misclassified :  1.0\n"
     ]
    },
    {
     "data": {
      "text/plain": [
       "Text(0, 0.5, 'Loss Value')"
      ]
     },
     "execution_count": 13,
     "metadata": {},
     "output_type": "execute_result"
    },
    {
     "data": {
      "image/png": "[encoded data removed]",
      "text/plain": [
       "<Figure size 432x288 with 1 Axes>"
      ]
     },
     "metadata": {
      "needs_background": "light"
     },
     "output_type": "display_data"
    }
   ],
   "source": [
    "landa = 0.1\n",
    "cost , pr = run_classifier(0.007 , 100 , x_train_lgs.tolist() , pd.get_dummies(y_train_lgs).to_numpy().tolist() , x_test_lgs.tolist() , landa)\n",
    "\n",
    "print(\"Test Accuracy : \" , (pr == y_test_lgs).mean() * 100 , \"%\")\n",
    "print(\"Classified Correctly : \" , (pr == y_test_lgs).mean() * len(y_test_lgs))\n",
    "print(\"Misclassified : \" , len(y_test_lgs) - (pr == y_test_lgs).mean() * len(y_test_lgs))\n",
    "\n",
    "plt.plot(cost)\n",
    "plt.xlabel('Number Epochs') \n",
    "plt.ylabel('Loss Value')"
   ]
  },
  {
   "cell_type": "markdown",
   "metadata": {},
   "source": [
    "LANDA = 1"
   ]
  },
  {
   "cell_type": "code",
   "execution_count": 14,
   "metadata": {},
   "outputs": [
    {
     "name": "stdout",
     "output_type": "stream",
     "text": [
      "Test Accuracy :  96.66666666666667 %\n",
      "Classified Correctly :  29.0\n",
      "Misclassified :  1.0\n"
     ]
    },
    {
     "data": {
      "text/plain": [
       "Text(0, 0.5, 'Loss Value')"
      ]
     },
     "execution_count": 14,
     "metadata": {},
     "output_type": "execute_result"
    },
    {
     "data": {
      "image/png": "[encoded data removed]",
      "text/plain": [
       "<Figure size 432x288 with 1 Axes>"
      ]
     },
     "metadata": {
      "needs_background": "light"
     },
     "output_type": "display_data"
    }
   ],
   "source": [
    "landa = 1\n",
    "cost , pr = run_classifier(0.007 , 100 , x_train_lgs.tolist() , pd.get_dummies(y_train_lgs).to_numpy().tolist() , x_test_lgs.tolist() , landa)\n",
    "\n",
    "print(\"Test Accuracy : \" , (pr == y_test_lgs).mean() * 100 , \"%\")\n",
    "print(\"Classified Correctly : \" , (pr == y_test_lgs).mean() * len(y_test_lgs))\n",
    "print(\"Misclassified : \" , len(y_test_lgs) - (pr == y_test_lgs).mean() * len(y_test_lgs))\n",
    "\n",
    "plt.plot(cost)\n",
    "plt.xlabel('Number Epochs') \n",
    "plt.ylabel('Loss Value')"
   ]
  },
  {
   "cell_type": "markdown",
   "metadata": {},
   "source": [
    "LANDA = 10"
   ]
  },
  {
   "cell_type": "code",
   "execution_count": 15,
   "metadata": {},
   "outputs": [
    {
     "name": "stdout",
     "output_type": "stream",
     "text": [
      "Test Accuracy :  96.66666666666667 %\n",
      "Classified Correctly :  29.0\n",
      "Misclassified :  1.0\n"
     ]
    },
    {
     "data": {
      "text/plain": [
       "Text(0, 0.5, 'Loss Value')"
      ]
     },
     "execution_count": 15,
     "metadata": {},
     "output_type": "execute_result"
    },
    {
     "data": {
      "image/png": "[encoded data removed]",
      "text/plain": [
       "<Figure size 432x288 with 1 Axes>"
      ]
     },
     "metadata": {
      "needs_background": "light"
     },
     "output_type": "display_data"
    }
   ],
   "source": [
    "landa = 10\n",
    "cost , pr = run_classifier(0.007 , 100 , x_train_lgs.tolist() , pd.get_dummies(y_train_lgs).to_numpy().tolist() , x_test_lgs.tolist() , landa)\n",
    "\n",
    "print(\"Test Accuracy : \" , (pr == y_test_lgs).mean() * 100 , \"%\")\n",
    "print(\"Classified Correctly : \" , (pr == y_test_lgs).mean() * len(y_test_lgs))\n",
    "print(\"Misclassified : \" , len(y_test_lgs) - (pr == y_test_lgs).mean() * len(y_test_lgs))\n",
    "\n",
    "plt.plot(cost)\n",
    "plt.xlabel('Number Epochs') \n",
    "plt.ylabel('Loss Value')"
   ]
  }
 ],
 "metadata": {
  "kernelspec": {
   "display_name": "Python 3",
   "language": "python",
   "name": "python3"
  },
  "language_info": {
   "codemirror_mode": {
    "name": "ipython",
    "version": 3
   },
   "file_extension": ".py",
   "mimetype": "text/x-python",
   "name": "python",
   "nbconvert_exporter": "python",
   "pygments_lexer": "ipython3",
   "version": "3.8.5"
  }
 },
 "nbformat": 4,
 "nbformat_minor": 4
}
